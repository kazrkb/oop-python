{
 "cells": [
  {
   "cell_type": "markdown",
   "id": "f2ca8c5f",
   "metadata": {},
   "source": [
    "# Understanding Objects in Python (OOP)\n",
    "\n",
    "An **object** is a real-world thing created from a class. If a class is a blueprint, an object is the actual item built from that blueprint.\n",
    "\n",
    "## Key Points\n",
    "- An object is an instance of a class.\n",
    "- Each object can have different values for its properties, but shares the structure defined by the class.\n",
    "- Objects can use the functions (methods) defined in the class.\n",
    "\n",
    "## Example\n",
    "```python\n",
    "class Dog:\n",
    "    def __init__(self, name, age):\n",
    "        self.name = name\n",
    "        self.age = age\n",
    "\n",
    "# Creating objects from the Dog class\n",
    "my_dog = Dog(\"Buddy\", 3)\n",
    "your_dog = Dog(\"Max\", 5)\n",
    "\n",
    "print(my_dog.name)   # Output: Buddy\n",
    "print(your_dog.name) # Output: Max\n",
    "```\n",
    "- Here, `my_dog` and `your_dog` are objects (instances) of the `Dog` class.\n",
    "- Each object has its own data (`name` and `age`).\n",
    "\n",
    "## Why Use Objects?\n",
    "- To represent real-world things in code (like a car, student, or dog).\n",
    "- To organize data and functions together.\n",
    "- To make code reusable and easier to manage.\n",
    "\n",
    "**Summary:**\n",
    "- Object = Instance of a class\n",
    "- Objects have their own data and can use class methods\n",
    "- You create objects to work with real data in your program"
   ]
  },
  {
   "cell_type": "markdown",
   "id": "da2f9946",
   "metadata": {},
   "source": [
    "# Understanding Classes in Python (OOP)\n",
    "\n",
    "A **class** is like a blueprint for creating objects. It tells Python what properties (data) and actions (functions) the objects will have.\n",
    "\n",
    "- Think of a class as a recipe, and objects as the cakes you bake from that recipe.\n",
    "- You use the class to create objects (instances) with the same structure but different data.\n",
    "\n",
    "**Example:**\n",
    "```python\n",
    "class Dog:\n",
    "    def __init__(self, name, age):\n",
    "        self.name = name\n",
    "        self.age = age\n",
    "\n",
    "my_dog = Dog(\"Buddy\", 3)\n",
    "print(my_dog.name)  # Output: Buddy\n",
    "print(my_dog.age)   # Output: 3\n",
    "```\n",
    "- Here, `Dog` is a class.\n",
    "- `my_dog` is an object (instance) of the class `Dog`.\n",
    "- `__init__` is a special method called a constructor, used to set up the object's data.\n",
    "\n",
    "**In summary:**\n",
    "- Class = Blueprint\n",
    "- Object = Actual item created from the blueprint\n",
    "- Use classes to organize and reuse code easily."
   ]
  },
  {
   "cell_type": "code",
   "execution_count": 3,
   "id": "657edaf6",
   "metadata": {},
   "outputs": [
    {
     "name": "stdout",
     "output_type": "stream",
     "text": [
      "red\n",
      "sedan\n",
      "2020\n",
      "blue\n"
     ]
    }
   ],
   "source": [
    "class Car:\n",
    "    color = \"red\" # Default color for every car\n",
    "    model = \"sedan\" # Default model for evry car\n",
    "    year = 2020 # Default year for every car\n",
    "    brand = \"Toyota\" # Default brand for every car\n",
    "car1 = Car()\n",
    "print(car1.color)  # Output: red\n",
    "print(car1.model)  # Output: sedan\n",
    "print(car1.year)   # Output: 2020\n",
    "\n",
    "car2 = Car()\n",
    "car2.color = \"blue\"  # Changing color for car2\n",
    "print(car2.color)  # Output: blue"
   ]
  },
  {
   "cell_type": "markdown",
   "id": "e589a25e",
   "metadata": {},
   "source": [
    "# Python Constructor Explained\n",
    "\n",
    "A **constructor** in Python is a special method used to initialize (set up) a new object when it is created from a class.\n",
    "\n",
    "## Key Points\n",
    "- The constructor method in Python is always named `__init__`.\n",
    "- It runs automatically when you create a new object from a class.\n",
    "- It is used to set the initial values of the object's properties.\n",
    "\n",
    "## Syntax\n",
    "```python\n",
    "class ClassName:\n",
    "    def __init__(self, parameters):\n",
    "        # initialization code\n",
    "```\n",
    "\n",
    "## Example\n",
    "```python\n",
    "class Student:\n",
    "    def __init__(self, name, age):\n",
    "        self.name = name\n",
    "        self.age = age\n",
    "\n",
    "s1 = Student(\"Alice\", 20)\n",
    "print(s1.name)  # Output: Alice\n",
    "print(s1.age)   # Output: 20\n",
    "```\n",
    "\n",
    "## Types of Constructors\n",
    "- **Default Constructor:** No parameters except `self`.\n",
    "- **Parameterized Constructor:** Takes additional arguments to set properties.\n",
    "\n",
    "## Why Use Constructors?\n",
    "- To make sure every object starts with the right data.\n",
    "- To run any setup code when an object is created.\n",
    "\n",
    "## Special Notes\n",
    "- You can only have one `__init__` method per class. If you define it more than once, the last one will be used.\n",
    "- The first parameter of `__init__` is always `self`, which refers to the object being created.\n",
    "\n",
    "**Summary:**\n",
    "- Constructor = `__init__` method\n",
    "- Used for initializing new objects\n",
    "- Runs automatically when you create an object\n",
    "- Helps keep your code organized and objects properly set up"
   ]
  },
  {
   "cell_type": "code",
   "execution_count": 7,
   "id": "5c557cae",
   "metadata": {},
   "outputs": [
    {
     "name": "stdout",
     "output_type": "stream",
     "text": [
      "<__main__.Student object at 0x000002AA01EE9110>\n",
      "A new student has been created\n",
      "<__main__.Student object at 0x000002AA01EE9110>\n"
     ]
    }
   ],
   "source": [
    "class Student:\n",
    "    def __init__(self):\n",
    "        print(self)\n",
    "        print(\"A new student has been created\")\n",
    "\n",
    "s1 = Student() # This will print \"A new student has been created\"\n",
    "print(s1)"
   ]
  },
  {
   "cell_type": "code",
   "execution_count": 12,
   "id": "c27591c4",
   "metadata": {},
   "outputs": [
    {
     "name": "stdout",
     "output_type": "stream",
     "text": [
      "added student to the database\n",
      "Rakib\n",
      "25\n",
      "added student to the database\n",
      "Nayeem\n",
      "15\n"
     ]
    }
   ],
   "source": [
    "class Student:\n",
    "    # default constrcutor\n",
    "    def __init__(self):\n",
    "        pass\n",
    "    # paramiterized constructor\n",
    "    def __init__(self, name, age):\n",
    "        self.name = name\n",
    "        self.age = age\n",
    "        print(\"added student to the database\")\n",
    "\n",
    "s1 = Student(\"Rakib\", 25) # This will print \"A new student has been created\"\n",
    "print(s1.name)\n",
    "print(s1.age)\n",
    "\n",
    "s2 = Student(\"Nayeem\", 15)\n",
    "print(s2.name)\n",
    "print(s2.age)"
   ]
  },
  {
   "cell_type": "code",
   "execution_count": null,
   "id": "25ec0f77",
   "metadata": {},
   "outputs": [],
   "source": []
  }
 ],
 "metadata": {
  "kernelspec": {
   "display_name": "Python 3",
   "language": "python",
   "name": "python3"
  },
  "language_info": {
   "codemirror_mode": {
    "name": "ipython",
    "version": 3
   },
   "file_extension": ".py",
   "mimetype": "text/x-python",
   "name": "python",
   "nbconvert_exporter": "python",
   "pygments_lexer": "ipython3",
   "version": "3.11.9"
  }
 },
 "nbformat": 4,
 "nbformat_minor": 5
}
