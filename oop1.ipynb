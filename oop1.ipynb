{
 "cells": [
  {
   "cell_type": "code",
   "execution_count": 3,
   "id": "657edaf6",
   "metadata": {},
   "outputs": [
    {
     "name": "stdout",
     "output_type": "stream",
     "text": [
      "red\n",
      "sedan\n",
      "2020\n",
      "blue\n"
     ]
    }
   ],
   "source": [
    "class Car:\n",
    "    color = \"red\" # Default color for every car\n",
    "    model = \"sedan\" # Default model for evry car\n",
    "    year = 2020 # Default year for every car\n",
    "    brand = \"Toyota\" # Default brand for every car\n",
    "car1 = Car()\n",
    "print(car1.color)  # Output: red\n",
    "print(car1.model)  # Output: sedan\n",
    "print(car1.year)   # Output: 2020\n",
    "\n",
    "car2 = Car()\n",
    "car2.color = \"blue\"  # Changing color for car2\n",
    "print(car2.color)  # Output: blue"
   ]
  },
  {
   "cell_type": "code",
   "execution_count": 4,
   "id": "5c557cae",
   "metadata": {},
   "outputs": [
    {
     "name": "stdout",
     "output_type": "stream",
     "text": [
      "A new student has been created\n"
     ]
    }
   ],
   "source": [
    "class Student:\n",
    "    def __init__(self):\n",
    "        print(\"A new student has been created\")\n",
    "\n",
    "s1 = Student() # This will print \"A new student has been created\""
   ]
  }
 ],
 "metadata": {
  "kernelspec": {
   "display_name": "Python 3",
   "language": "python",
   "name": "python3"
  },
  "language_info": {
   "codemirror_mode": {
    "name": "ipython",
    "version": 3
   },
   "file_extension": ".py",
   "mimetype": "text/x-python",
   "name": "python",
   "nbconvert_exporter": "python",
   "pygments_lexer": "ipython3",
   "version": "3.11.9"
  }
 },
 "nbformat": 4,
 "nbformat_minor": 5
}
