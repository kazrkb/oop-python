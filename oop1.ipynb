{
 "cells": [
  {
   "cell_type": "markdown",
   "id": "f2ca8c5f",
   "metadata": {},
   "source": [
    "# Understanding Objects in Python (OOP)\n",
    "\n",
    "An **object** is a real-world thing created from a class. If a class is a blueprint, an object is the actual item built from that blueprint.\n",
    "\n",
    "## Key Points\n",
    "- An object is an instance of a class.\n",
    "- Each object can have different values for its properties, but shares the structure defined by the class.\n",
    "- Objects can use the functions (methods) defined in the class.\n",
    "\n",
    "## Example\n",
    "```python\n",
    "class Dog:\n",
    "    def __init__(self, name, age):\n",
    "        self.name = name\n",
    "        self.age = age\n",
    "\n",
    "# Creating objects from the Dog class\n",
    "my_dog = Dog(\"Buddy\", 3)\n",
    "your_dog = Dog(\"Max\", 5)\n",
    "\n",
    "print(my_dog.name)   # Output: Buddy\n",
    "print(your_dog.name) # Output: Max\n",
    "```\n",
    "- Here, `my_dog` and `your_dog` are objects (instances) of the `Dog` class.\n",
    "- Each object has its own data (`name` and `age`).\n",
    "\n",
    "## Why Use Objects?\n",
    "- To represent real-world things in code (like a car, student, or dog).\n",
    "- To organize data and functions together.\n",
    "- To make code reusable and easier to manage.\n",
    "\n",
    "**Summary:**\n",
    "- Object = Instance of a class\n",
    "- Objects have their own data and can use class methods\n",
    "- You create objects to work with real data in your program"
   ]
  },
  {
   "cell_type": "markdown",
   "id": "da2f9946",
   "metadata": {},
   "source": [
    "# Understanding Classes in Python (OOP)\n",
    "\n",
    "A **class** is like a blueprint for creating objects. It tells Python what properties (data) and actions (functions) the objects will have.\n",
    "\n",
    "- Think of a class as a recipe, and objects as the cakes you bake from that recipe.\n",
    "- You use the class to create objects (instances) with the same structure but different data.\n",
    "\n",
    "**Example:**\n",
    "```python\n",
    "class Dog:\n",
    "    def __init__(self, name, age):\n",
    "        self.name = name\n",
    "        self.age = age\n",
    "\n",
    "my_dog = Dog(\"Buddy\", 3)\n",
    "print(my_dog.name)  # Output: Buddy\n",
    "print(my_dog.age)   # Output: 3\n",
    "```\n",
    "- Here, `Dog` is a class.\n",
    "- `my_dog` is an object (instance) of the class `Dog`.\n",
    "- `__init__` is a special method called a constructor, used to set up the object's data.\n",
    "\n",
    "**In summary:**\n",
    "- Class = Blueprint\n",
    "- Object = Actual item created from the blueprint\n",
    "- Use classes to organize and reuse code easily."
   ]
  },
  {
   "cell_type": "code",
   "execution_count": 1,
   "id": "657edaf6",
   "metadata": {},
   "outputs": [
    {
     "name": "stdout",
     "output_type": "stream",
     "text": [
      "red\n",
      "sedan\n",
      "2020\n",
      "blue\n"
     ]
    }
   ],
   "source": [
    "class Car:\n",
    "    color = \"red\" # Default color for every car\n",
    "    model = \"sedan\" # Default model for evry car\n",
    "    year = 2020 # Default year for every car\n",
    "    brand = \"Toyota\" # Default brand for every car\n",
    "car1 = Car()\n",
    "print(car1.color)  # Output: red\n",
    "print(car1.model)  # Output: sedan\n",
    "print(car1.year)   # Output: 2020\n",
    "\n",
    "car2 = Car()\n",
    "car2.color = \"blue\"  # Changing color for car2\n",
    "print(car2.color)  # Output: blue"
   ]
  },
  {
   "cell_type": "markdown",
   "id": "e589a25e",
   "metadata": {},
   "source": [
    "# Python Constructor Explained\n",
    "\n",
    "A **constructor** in Python is a special method used to initialize (set up) a new object when it is created from a class.\n",
    "\n",
    "## Key Points\n",
    "- The constructor method in Python is always named `__init__`.\n",
    "- It runs automatically when you create a new object from a class.\n",
    "- It is used to set the initial values of the object's properties.\n",
    "\n",
    "## Syntax\n",
    "```python\n",
    "class ClassName:\n",
    "    def __init__(self, parameters):\n",
    "        # initialization code\n",
    "```\n",
    "\n",
    "## Example\n",
    "```python\n",
    "class Student:\n",
    "    def __init__(self, name, age):\n",
    "        self.name = name\n",
    "        self.age = age\n",
    "\n",
    "s1 = Student(\"Alice\", 20)\n",
    "print(s1.name)  # Output: Alice\n",
    "print(s1.age)   # Output: 20\n",
    "```\n",
    "\n",
    "## Types of Constructors\n",
    "- **Default Constructor:** No parameters except `self`.\n",
    "- **Parameterized Constructor:** Takes additional arguments to set properties.\n",
    "\n",
    "## Why Use Constructors?\n",
    "- To make sure every object starts with the right data.\n",
    "- To run any setup code when an object is created.\n",
    "\n",
    "## Special Notes\n",
    "- You can only have one `__init__` method per class. If you define it more than once, the last one will be used.\n",
    "- The first parameter of `__init__` is always `self`, which refers to the object being created.\n",
    "\n",
    "**Summary:**\n",
    "- Constructor = `__init__` method\n",
    "- Used for initializing new objects\n",
    "- Runs automatically when you create an object\n",
    "- Helps keep your code organized and objects properly set up"
   ]
  },
  {
   "cell_type": "code",
   "execution_count": 2,
   "id": "5c557cae",
   "metadata": {},
   "outputs": [
    {
     "name": "stdout",
     "output_type": "stream",
     "text": [
      "<__main__.Student object at 0x0000022F05D2D310>\n",
      "A new student has been created\n",
      "<__main__.Student object at 0x0000022F05D2D310>\n"
     ]
    }
   ],
   "source": [
    "class Student:\n",
    "    def __init__(self):\n",
    "        print(self)\n",
    "        print(\"A new student has been created\")\n",
    "\n",
    "s1 = Student() # This will print \"A new student has been created\"\n",
    "print(s1)"
   ]
  },
  {
   "cell_type": "code",
   "execution_count": 3,
   "id": "c27591c4",
   "metadata": {},
   "outputs": [
    {
     "name": "stdout",
     "output_type": "stream",
     "text": [
      "added student to the database\n",
      "Rakib\n",
      "25\n",
      "added student to the database\n",
      "Nayeem\n",
      "15\n"
     ]
    }
   ],
   "source": [
    "class Student:\n",
    "    # default constrcutor\n",
    "    def __init__(self):\n",
    "        pass\n",
    "    # paramiterized constructor\n",
    "    def __init__(self, name, age):\n",
    "        self.name = name\n",
    "        self.age = age\n",
    "        print(\"added student to the database\")\n",
    "\n",
    "s1 = Student(\"Rakib\", 25) # This will print \"A new student has been created\"\n",
    "print(s1.name)\n",
    "print(s1.age)\n",
    "\n",
    "s2 = Student(\"Nayeem\", 15)\n",
    "print(s2.name)\n",
    "print(s2.age)"
   ]
  },
  {
   "cell_type": "markdown",
   "id": "03338eed",
   "metadata": {},
   "source": [
    "# Object Attributes vs Class Attributes in Python\n",
    "\n",
    "In Python OOP, **attributes** are variables that belong to a class or an object. There are two main types:\n",
    "\n",
    "## 1. Class Attributes\n",
    "- Shared by all objects of the class.\n",
    "- Defined directly inside the class, but outside any methods.\n",
    "- Changing a class attribute affects all objects (unless the object has its own attribute with the same name).\n",
    "\n",
    "**Example:**\n",
    "```python\n",
    "class Dog:\n",
    "    species = \"Canine\"  # class attribute\n",
    "\n",
    "    def __init__(self, name):\n",
    "        self.name = name  # object attribute\n",
    "\n",
    "dog1 = Dog(\"Buddy\")\n",
    "dog2 = Dog(\"Max\")\n",
    "\n",
    "print(dog1.species)  # Output: Canine\n",
    "print(dog2.species)  # Output: Canine\n",
    "```\n",
    "\n",
    "## 2. Object Attributes\n",
    "- Unique to each object (instance).\n",
    "- Defined using `self` inside methods (usually in `__init__`).\n",
    "- Changing an object attribute only affects that specific object.\n",
    "\n",
    "**Example:**\n",
    "```python\n",
    "print(dog1.name)  # Output: Buddy\n",
    "print(dog2.name)  # Output: Max\n",
    "```\n",
    "\n",
    "## Key Differences\n",
    "- **Class Attribute:** Shared by all objects (like a label for the whole group).\n",
    "- **Object Attribute:** Unique to each object (like a name tag for each member).\n",
    "\n",
    "## Summary Table\n",
    "| Attribute Type   | Where Defined         | Shared?         |\n",
    "|------------------|----------------------|-----------------|\n",
    "| Class Attribute  | In the class         | Yes             |\n",
    "| Object Attribute | In methods with self | No (per object) |\n",
    "\n",
    "**Tip:**\n",
    "- Use class attributes for things all objects have in common.\n",
    "- Use object attributes for things that are different for each object."
   ]
  },
  {
   "cell_type": "code",
   "execution_count": null,
   "id": "25ec0f77",
   "metadata": {},
   "outputs": [
    {
     "name": "stdout",
     "output_type": "stream",
     "text": [
      "added student to the database\n",
      "Rakib\n",
      "25\n",
      "added student to the database\n",
      "Nayeem 15 IUB\n"
     ]
    }
   ],
   "source": [
    "class Student:\n",
    "    uni_name = 'IUB' #class attribute\n",
    "    name = 'anonymous'\n",
    "    def __init__(self, name, age):\n",
    "        self.name = name # obj attributes > class attributes\n",
    "        self.age = age\n",
    "        print(\"added student to the database\")\n",
    "\n",
    "s1 = Student(\"Rakib\", 25) # This will print \"A new student has been created\"\n",
    "print(s1.name)\n",
    "print(s1.age)\n",
    "\n",
    "s2 = Student(\"Nayeem\", 15)\n",
    "print(s2.name,s2.age,s2.uni_name)"
   ]
  },
  {
   "cell_type": "markdown",
   "id": "33d529ad",
   "metadata": {},
   "source": [
    "# Methods in Python (OOP)\n",
    "\n",
    "A **method** is a function that is defined inside a class and is used to perform actions with the objects of that class.\n",
    "\n",
    "## Key Points\n",
    "- Methods are like functions, but they belong to a class.\n",
    "- They usually work with the data (attributes) of the object.\n",
    "- The first parameter of a method is always `self`, which refers to the object calling the method.\n",
    "\n",
    "## Example\n",
    "```python\n",
    "class Dog:\n",
    "    def __init__(self, name):\n",
    "        self.name = name\n",
    "    def bark(self):\n",
    "        print(f\"{self.name} says woof!\")\n",
    "\n",
    "my_dog = Dog(\"Buddy\")\n",
    "my_dog.bark()  # Output: Buddy says woof!\n",
    "```\n",
    "\n",
    "## Types of Methods\n",
    "- **Instance Method:** The most common type. Works with object data. (Uses `self`)\n",
    "- **Class Method:** Works with class data. Uses `@classmethod` and `cls` as the first parameter.\n",
    "- **Static Method:** Does not use object or class data. Uses `@staticmethod` and no special first parameter.\n",
    "\n",
    "## Why Use Methods?\n",
    "- To give objects actions they can perform.\n",
    "- To organize code related to a class in one place.\n",
    "\n",
    "**Summary:**\n",
    "- Method = Function inside a class\n",
    "- Used to perform actions with objects\n",
    "- Helps keep code organized and reusable"
   ]
  },
  {
   "cell_type": "code",
   "execution_count": 9,
   "id": "2e7e7457",
   "metadata": {},
   "outputs": [
    {
     "name": "stdout",
     "output_type": "stream",
     "text": [
      "Rofiq\n",
      "Hello Rofiq\n"
     ]
    },
    {
     "data": {
      "text/plain": [
       "23"
      ]
     },
     "execution_count": 9,
     "metadata": {},
     "output_type": "execute_result"
    }
   ],
   "source": [
    "class Student:\n",
    "    uni_name = \"IUB\"\n",
    "    def __init__(self,name,age):\n",
    "        self.name = name\n",
    "        self.age = age\n",
    "        \n",
    "    def hello(self):\n",
    "        print('Hello', self.name)\n",
    "        \n",
    "    def get_age(self):\n",
    "        return self.age\n",
    "        \n",
    "s3 = Student('Rofiq',23)\n",
    "print(s3.name)\n",
    "s3.hello()\n",
    "s3.get_age()"
   ]
  },
  {
   "cell_type": "code",
   "execution_count": 16,
   "id": "92e89d88",
   "metadata": {},
   "outputs": [
    {
     "name": "stdout",
     "output_type": "stream",
     "text": [
      "Kasem Abdullah your averge score is: 88.33333333333333\n",
      "Asif Abdullah your averge score is: 88.33333333333333\n"
     ]
    }
   ],
   "source": [
    "class Student:\n",
    "    def __init__(self,name,marks):\n",
    "        self.name = name\n",
    "        self.marks = marks\n",
    "    \n",
    "    def get_avg(self):\n",
    "        sum = 0\n",
    "        for mark in self.marks:\n",
    "            sum = sum + mark\n",
    "        avg_marks = sum/len(self.marks)\n",
    "        return print(self.name,'your averge score is:', avg_marks)\n",
    "    \n",
    "s1 = Student('Kasem Abdullah',[88,93,84])\n",
    "s1.get_avg()\n",
    "s1.name = 'Asif Abdullah'\n",
    "s1.get_avg()"
   ]
  },
  {
   "cell_type": "markdown",
   "id": "e7eb09f8",
   "metadata": {},
   "source": [
    "# Static Methods in Python (OOP)\n",
    "\n",
    "A **static method** is a special type of method in a class that does not access or modify the class or object (instance) data. It behaves like a regular function, but it belongs to the class's namespace.\n",
    "\n",
    "## Key Points\n",
    "- Defined using the `@staticmethod` decorator.\n",
    "- Does NOT take `self` (object) or `cls` (class) as the first parameter.\n",
    "- Can be called using the class name or an object, but it does not know anything about the class or object.\n",
    "- Used for utility functions that are related to the class, but don't need to access or change class/object data.\n",
    "\n",
    "## Syntax\n",
    "```python\n",
    "class MyClass:\n",
    "    @staticmethod\n",
    "    def my_static_method(parameters):\n",
    "        # code here\n",
    "```\n",
    "\n",
    "## Example\n",
    "```python\n",
    "class Math:\n",
    "    @staticmethod\n",
    "    def add(x, y):\n",
    "        return x + y\n",
    "\n",
    "# Call static method using class name\n",
    "result = Math.add(5, 3)\n",
    "print(result)  # Output: 8\n",
    "\n",
    "# You can also call it from an object\n",
    "m = Math()\n",
    "print(m.add(10, 2))  # Output: 12\n",
    "```\n",
    "\n",
    "## When to Use Static Methods?\n",
    "- When you want to group a function with a class, but the function does not need to access or change any class or object data.\n",
    "- For helper or utility functions related to the class's purpose.\n",
    "\n",
    "## Difference from Other Methods\n",
    "- **Instance Method:** Needs `self`, works with object data.\n",
    "- **Class Method:** Needs `cls`, works with class data, uses `@classmethod`.\n",
    "- **Static Method:** No `self` or `cls`, works like a regular function but inside the class.\n",
    "\n",
    "**Summary:**\n",
    "- Use `@staticmethod` for functions inside a class that don't need to know about the object or class itself.\n",
    "- Static methods help organize code and keep related functions together."
   ]
  },
  {
   "cell_type": "code",
   "execution_count": null,
   "id": "f34b679b",
   "metadata": {},
   "outputs": [
    {
     "name": "stdout",
     "output_type": "stream",
     "text": [
      "Rofiq\n",
      "Hello\n"
     ]
    },
    {
     "data": {
      "text/plain": [
       "23"
      ]
     },
     "execution_count": 17,
     "metadata": {},
     "output_type": "execute_result"
    }
   ],
   "source": [
    "class Student:\n",
    "    uni_name = \"IUB\"\n",
    "    def __init__(self,name,age):\n",
    "        self.name = name\n",
    "        self.age = age\n",
    "    @staticmethod  # decorator\n",
    "    def hello():\n",
    "        print('Hello')\n",
    "        \n",
    "    def get_age(self):\n",
    "        return self.age\n",
    "        \n",
    "s3 = Student('Rofiq',23)\n",
    "print(s3.name)\n",
    "s3.hello()\n",
    "s3.get_age()"
   ]
  },
  {
   "cell_type": "markdown",
   "id": "4b7c0d52",
   "metadata": {},
   "source": [
    "# Abstraction and Encapsulation in Python (OOP)\n",
    "\n",
    "## Abstraction\n",
    "- **Abstraction** means hiding complex details and showing only the essential features of something.\n",
    "- It helps you focus on what an object does, not how it does it.\n",
    "- In Python, abstraction is often achieved using classes and methods, and sometimes with abstract base classes (using the `abc` module).\n",
    "\n",
    "**Example:**\n",
    "```python\n",
    "class Animal:\n",
    "    def make_sound(self):\n",
    "        pass  # Abstract method (no details)\n",
    "\n",
    "class Dog(Animal):\n",
    "    def make_sound(self):\n",
    "        print(\"Woof!\")\n",
    "```\n",
    "- Here, `Animal` provides an abstract idea (make_sound), and `Dog` gives the actual details.\n",
    "\n",
    "## Encapsulation\n",
    "- **Encapsulation** means bundling data (attributes) and methods (functions) together inside a class.\n",
    "- It also means restricting direct access to some parts of an object, usually by making attributes private (using `_` or `__`).\n",
    "- This protects the data and makes your code safer and easier to manage.\n",
    "\n",
    "**Example:**\n",
    "```python\n",
    "class Student:\n",
    "    def __init__(self, name, age):\n",
    "        self.__name = name      # Private attribute\n",
    "        self.__age = age        # Private attribute\n",
    "    def get_name(self):\n",
    "        return self.__name\n",
    "    def set_age(self, age):\n",
    "        self.__age = age\n",
    "```\n",
    "- Here, `__name` and `__age` are encapsulated (hidden) inside the class. You use methods to access or change them.\n",
    "\n",
    "## Key Differences\n",
    "- **Abstraction:** Hides unnecessary details, shows only what is needed.\n",
    "- **Encapsulation:** Hides data and methods inside a class, controls access to them.\n",
    "\n",
    "**Summary:**\n",
    "- Abstraction = Focus on what an object does.\n",
    "- Encapsulation = Protect and manage how data is accessed and changed."
   ]
  },
  {
   "cell_type": "code",
   "execution_count": null,
   "id": "f81172a9",
   "metadata": {},
   "outputs": [
    {
     "name": "stdout",
     "output_type": "stream",
     "text": [
      "Tk.  4500 is debited. Now your current balance is Tk.  9500\n",
      "Tk.  32000 is credited. Now your current balance is Tk.  41500\n"
     ]
    }
   ],
   "source": [
    "class Account:\n",
    "    def __init__(self,bal,acc):\n",
    "        self.balance = bal\n",
    "        self.acc_no = acc\n",
    "    def debit(self,amount):\n",
    "        self.balance -= amount\n",
    "        print(\"Tk. \",amount,\"is debited. Your available balance is Tk. \",self.get_balance())\n",
    "        \n",
    "    def credit(self,amount):\n",
    "        self.balance += amount\n",
    "        print(\"Tk. \",amount,\"is credited. Your available balance is Tk. \",self.get_balance())\n",
    "    def get_balance(self):\n",
    "        return self.balance\n",
    "    \n",
    "acc5 = Account(14000, '11010576431')\n",
    "acc5.debit(4500)\n",
    "acc5.credit(32000)"
   ]
  }
 ],
 "metadata": {
  "kernelspec": {
   "display_name": "Python 3",
   "language": "python",
   "name": "python3"
  },
  "language_info": {
   "codemirror_mode": {
    "name": "ipython",
    "version": 3
   },
   "file_extension": ".py",
   "mimetype": "text/x-python",
   "name": "python",
   "nbconvert_exporter": "python",
   "pygments_lexer": "ipython3",
   "version": "3.11.9"
  }
 },
 "nbformat": 4,
 "nbformat_minor": 5
}
