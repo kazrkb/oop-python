{
 "cells": [
  {
   "cell_type": "code",
   "execution_count": 3,
   "id": "657edaf6",
   "metadata": {},
   "outputs": [
    {
     "name": "stdout",
     "output_type": "stream",
     "text": [
      "red\n",
      "sedan\n",
      "2020\n",
      "blue\n"
     ]
    }
   ],
   "source": [
    "class Car:\n",
    "    color = \"red\" # Default color for every car\n",
    "    model = \"sedan\" # Default model for evry car\n",
    "    year = 2020 # Default year for every car\n",
    "    brand = \"Toyota\" # Default brand for every car\n",
    "car1 = Car()\n",
    "print(car1.color)  # Output: red\n",
    "print(car1.model)  # Output: sedan\n",
    "print(car1.year)   # Output: 2020\n",
    "\n",
    "car2 = Car()\n",
    "car2.color = \"blue\"  # Changing color for car2\n",
    "print(car2.color)  # Output: blue"
   ]
  },
  {
   "cell_type": "code",
   "execution_count": 7,
   "id": "5c557cae",
   "metadata": {},
   "outputs": [
    {
     "name": "stdout",
     "output_type": "stream",
     "text": [
      "<__main__.Student object at 0x000002AA01EE9110>\n",
      "A new student has been created\n",
      "<__main__.Student object at 0x000002AA01EE9110>\n"
     ]
    }
   ],
   "source": [
    "class Student:\n",
    "    def __init__(self):\n",
    "        print(self)\n",
    "        print(\"A new student has been created\")\n",
    "\n",
    "s1 = Student() # This will print \"A new student has been created\"\n",
    "print(s1)"
   ]
  },
  {
   "cell_type": "code",
   "execution_count": 12,
   "id": "c27591c4",
   "metadata": {},
   "outputs": [
    {
     "name": "stdout",
     "output_type": "stream",
     "text": [
      "added student to the database\n",
      "Rakib\n",
      "25\n",
      "added student to the database\n",
      "Nayeem\n",
      "15\n"
     ]
    }
   ],
   "source": [
    "class Student:\n",
    "    # default constrcutor\n",
    "    def __init__(self):\n",
    "        pass\n",
    "    # paramiterized constructor\n",
    "    def __init__(self, name, age):\n",
    "        self.name = name\n",
    "        self.age = age\n",
    "        print(\"added student to the database\")\n",
    "\n",
    "s1 = Student(\"Rakib\", 25) # This will print \"A new student has been created\"\n",
    "print(s1.name)\n",
    "print(s1.age)\n",
    "\n",
    "s2 = Student(\"Nayeem\", 15)\n",
    "print(s2.name)\n",
    "print(s2.age)"
   ]
  },
  {
   "cell_type": "code",
   "execution_count": null,
   "id": "25ec0f77",
   "metadata": {},
   "outputs": [],
   "source": []
  }
 ],
 "metadata": {
  "kernelspec": {
   "display_name": "Python 3",
   "language": "python",
   "name": "python3"
  },
  "language_info": {
   "codemirror_mode": {
    "name": "ipython",
    "version": 3
   },
   "file_extension": ".py",
   "mimetype": "text/x-python",
   "name": "python",
   "nbconvert_exporter": "python",
   "pygments_lexer": "ipython3",
   "version": "3.11.9"
  }
 },
 "nbformat": 4,
 "nbformat_minor": 5
}
