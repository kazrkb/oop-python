{
 "cells": [
  {
   "cell_type": "code",
   "execution_count": 1,
   "id": "9ea5b19c",
   "metadata": {},
   "outputs": [
    {
     "name": "stdout",
     "output_type": "stream",
     "text": [
      "Alex DU\n"
     ]
    }
   ],
   "source": [
    "class Student:\n",
    "    def __init__(self,name,uni):\n",
    "        self.name = name\n",
    "        self.university = uni\n",
    "    \n",
    "s1 = Student('John','IUB')\n",
    "s2 = Student('Alex','DU')\n",
    "s3 = Student('Rofiq','BUET')\n",
    "\n",
    "del s1\n",
    "print(s2.name,s2.university)"
   ]
  },
  {
   "cell_type": "code",
   "execution_count": 2,
   "id": "6e35761a",
   "metadata": {},
   "outputs": [
    {
     "name": "stdout",
     "output_type": "stream",
     "text": [
      "aludim123\n",
      "None\n"
     ]
    }
   ],
   "source": [
    "class Account:\n",
    "    def __init__(self,acc_no,acc_pass):\n",
    "        self.acc_no = acc_no\n",
    "        self.__acc_pass = acc_pass\n",
    "        \n",
    "    def privatePassPrint(self):\n",
    "        print(self.__acc_pass)\n",
    "        \n",
    "a1 = Account('453 874', 'aludim123')\n",
    "\n",
    "# print(a1.__acc_pass) this will give error because private attribute\n",
    "\n",
    "print(a1.privatePassPrint())"
   ]
  },
  {
   "cell_type": "code",
   "execution_count": 3,
   "id": "470b3e73",
   "metadata": {},
   "outputs": [
    {
     "name": "stdout",
     "output_type": "stream",
     "text": [
      "Hello Person!! Rofiq\n",
      "None\n"
     ]
    }
   ],
   "source": [
    "class Person:\n",
    "    def __init__(self,name):\n",
    "        self.__name = name\n",
    "    def __hello(self):\n",
    "        print('Hello Person!!',self.__name)\n",
    "    def welcome(self):\n",
    "        self.__hello()\n",
    "\n",
    "\n",
    "p1 = Person(\"Rofiq\")\n",
    "print(p1.welcome())"
   ]
  },
  {
   "cell_type": "markdown",
   "id": "4209e7f8",
   "metadata": {},
   "source": [
    "## Inheritance\n",
    "##### When one class(childlderived) derives the properties & methods of another class(parentlbase).\n",
    "\n",
    "##### Inheritance -> Types = 1.Single Inheritance, 2.Multi-level Inheritance, 3.Multiple Inheritance"
   ]
  },
  {
   "cell_type": "code",
   "execution_count": 4,
   "id": "b28fe29d",
   "metadata": {},
   "outputs": [
    {
     "name": "stdout",
     "output_type": "stream",
     "text": [
      "Alion A15\n",
      "car started broom brooom....\n",
      "None\n",
      "Red\n"
     ]
    }
   ],
   "source": [
    "class Car:\n",
    "    color = 'Red'\n",
    "    @staticmethod\n",
    "    def start():\n",
    "        print('car started broom brooom....')\n",
    "        \n",
    "    @staticmethod\n",
    "    def stop():\n",
    "        print('car stopped.')\n",
    "        \n",
    "class ToyotaCar(Car):\n",
    "    def __init__(self,name):\n",
    "        self.name = name\n",
    "        \n",
    "car1 = ToyotaCar('Alion A15')\n",
    "car2 = ToyotaCar('Corola Axio')\n",
    "\n",
    "\n",
    "print(car1.name)\n",
    "print(car1.start())\n",
    "print(car2.color)"
   ]
  },
  {
   "cell_type": "code",
   "execution_count": null,
   "id": "9faec465",
   "metadata": {},
   "outputs": [
    {
     "name": "stdout",
     "output_type": "stream",
     "text": [
      "car started broom brooom....\n"
     ]
    }
   ],
   "source": [
    "class Car:\n",
    "    @staticmethod\n",
    "    def start():\n",
    "        print('car started broom brooom....')\n",
    "        \n",
    "    @staticmethod\n",
    "    def stop():\n",
    "        print('car stopped.')\n",
    "        \n",
    "class ToyotaCar(Car):\n",
    "    def __init__(self,brand):\n",
    "        self.brand = brand\n",
    "        \n",
    "class Corola(ToyotaCar):\n",
    "    def __init__(self,eng_type, color, noOfDoor):\n",
    "        self.eng_type = eng_type\n",
    "        self.color = color\n",
    "        self.noOfDoor = noOfDoor\n",
    "\n",
    "\n",
    "car1 = Corola('4 Cylinder','black',4)\n",
    "car1.start() # multilevel inheritance"
   ]
  },
  {
   "cell_type": "code",
   "execution_count": 17,
   "id": "540813a2",
   "metadata": {},
   "outputs": [
    {
     "name": "stdout",
     "output_type": "stream",
     "text": [
      "car started broom brooom....\n",
      "car stopped.\n",
      "gas\n"
     ]
    }
   ],
   "source": [
    "class Car:\n",
    "    def __init__(self,eng_type):\n",
    "        self.type = eng_type\n",
    "    \n",
    "    @staticmethod\n",
    "    def start():\n",
    "        print('car started broom brooom....')\n",
    "        \n",
    "    @staticmethod\n",
    "    def stop():\n",
    "        print('car stopped.')\n",
    "        \n",
    "class Corola(Car):\n",
    "    def __init__(self,noOfCyln, color, noOfDoor,type):\n",
    "        self.noOfCyln = noOfCyln\n",
    "        self.color = color\n",
    "        self.noOfDoor = noOfDoor\n",
    "        super().__init__(type)\n",
    "        super().start()\n",
    "\n",
    "\n",
    "car1 = Corola('4 Cylinder','black',4, 'gas')\n",
    "car1.stop() # multilevel inheritance\n",
    "\n",
    "print(car1.type)"
   ]
  },
  {
   "cell_type": "code",
   "execution_count": 27,
   "id": "d07088db",
   "metadata": {},
   "outputs": [
    {
     "name": "stdout",
     "output_type": "stream",
     "text": [
      "kuddus ali\n",
      "kuddus ali\n"
     ]
    }
   ],
   "source": [
    "class Person:\n",
    "    name = 'korim'\n",
    "    \n",
    "    # def changeName(obj,name):\n",
    "    #     Person.name = name\n",
    "    #     #self.__class__.name = name\n",
    "    @classmethod\n",
    "    def changeName(cls,name):\n",
    "        cls.name = name\n",
    "\n",
    "\n",
    "p1 = Person()\n",
    "p1.changeName('kuddus ali')\n",
    "\n",
    "print(p1.name)\n",
    "print(Person.name)"
   ]
  },
  {
   "cell_type": "code",
   "execution_count": 5,
   "id": "adb99792",
   "metadata": {},
   "outputs": [
    {
     "name": "stdout",
     "output_type": "stream",
     "text": [
      "96.0%\n",
      "91.66666666666667%\n"
     ]
    }
   ],
   "source": [
    "class Student:\n",
    "    def __init__(self,phy,che,math):\n",
    "        self.phy = phy\n",
    "        self.che = che\n",
    "        self.math = math\n",
    "        # self.percentage = str((self.phy+self.che+self.math)/3) + '%'\n",
    "        \n",
    "    # def calPercentage(self):\n",
    "    #     self.percentage = str((self.phy+self.che+self.math)/3) + '%'\n",
    "    @property\n",
    "    def percentage(self):\n",
    "        return str((self.phy+self.che+self.math)/3) + '%'\n",
    "        \n",
    "s1 = Student(98,93,97)\n",
    "print(s1.percentage)\n",
    "s1.phy = 85\n",
    "# s1.calPercentage()\n",
    "print(s1.percentage)"
   ]
  },
  {
   "cell_type": "markdown",
   "id": "a9ac47cf",
   "metadata": {},
   "source": [
    "### Polymorphism"
   ]
  },
  {
   "cell_type": "code",
   "execution_count": 1,
   "id": "153e51df",
   "metadata": {},
   "outputs": [
    {
     "name": "stdout",
     "output_type": "stream",
     "text": [
      "3 + 8 i\n",
      "2 + 7 i\n",
      "5 + 15 i\n"
     ]
    }
   ],
   "source": [
    "class Complex:\n",
    "    def __init__(self,real,img):\n",
    "        self.real = real\n",
    "        self.img = img\n",
    "    def showNumber(self):\n",
    "        print(self.real,\"+\",self.img,\"i\")\n",
    "    \n",
    "    def add(self,num2):\n",
    "        newReal = self.real + num2.real\n",
    "        newImg = self.img + num2.img\n",
    "        return Complex(newReal,newImg)\n",
    "    \n",
    "num1 = Complex(3,8)\n",
    "num1.showNumber()\n",
    "num2 = Complex(2,7)\n",
    "num2.showNumber()\n",
    "\n",
    "num3 = num1.add(num2)\n",
    "num3.showNumber()"
   ]
  }
 ],
 "metadata": {
  "kernelspec": {
   "display_name": "Python 3",
   "language": "python",
   "name": "python3"
  },
  "language_info": {
   "codemirror_mode": {
    "name": "ipython",
    "version": 3
   },
   "file_extension": ".py",
   "mimetype": "text/x-python",
   "name": "python",
   "nbconvert_exporter": "python",
   "pygments_lexer": "ipython3",
   "version": "3.11.9"
  }
 },
 "nbformat": 4,
 "nbformat_minor": 5
}
