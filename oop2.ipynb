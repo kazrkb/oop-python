{
 "cells": [
  {
   "cell_type": "code",
   "execution_count": 5,
   "id": "9ea5b19c",
   "metadata": {},
   "outputs": [
    {
     "name": "stdout",
     "output_type": "stream",
     "text": [
      "Alex DU\n"
     ]
    }
   ],
   "source": [
    "class Student:\n",
    "    def __init__(self,name,uni):\n",
    "        self.name = name\n",
    "        self.university = uni\n",
    "    \n",
    "s1 = Student('John','IUB')\n",
    "s2 = Student('Alex','DU')\n",
    "s3 = Student('Rofiq','BUET')\n",
    "\n",
    "del s1\n",
    "print(s2.name,s2.university)"
   ]
  },
  {
   "cell_type": "code",
   "execution_count": null,
   "id": "6e35761a",
   "metadata": {},
   "outputs": [],
   "source": []
  }
 ],
 "metadata": {
  "kernelspec": {
   "display_name": "Python 3",
   "language": "python",
   "name": "python3"
  },
  "language_info": {
   "codemirror_mode": {
    "name": "ipython",
    "version": 3
   },
   "file_extension": ".py",
   "mimetype": "text/x-python",
   "name": "python",
   "nbconvert_exporter": "python",
   "pygments_lexer": "ipython3",
   "version": "3.11.9"
  }
 },
 "nbformat": 4,
 "nbformat_minor": 5
}
