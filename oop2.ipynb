{
 "cells": [
  {
   "cell_type": "code",
   "execution_count": 5,
   "id": "9ea5b19c",
   "metadata": {},
   "outputs": [
    {
     "name": "stdout",
     "output_type": "stream",
     "text": [
      "Alex DU\n"
     ]
    }
   ],
   "source": [
    "class Student:\n",
    "    def __init__(self,name,uni):\n",
    "        self.name = name\n",
    "        self.university = uni\n",
    "    \n",
    "s1 = Student('John','IUB')\n",
    "s2 = Student('Alex','DU')\n",
    "s3 = Student('Rofiq','BUET')\n",
    "\n",
    "del s1\n",
    "print(s2.name,s2.university)"
   ]
  },
  {
   "cell_type": "code",
   "execution_count": 5,
   "id": "6e35761a",
   "metadata": {},
   "outputs": [
    {
     "name": "stdout",
     "output_type": "stream",
     "text": [
      "aludim123\n",
      "None\n"
     ]
    }
   ],
   "source": [
    "class Account:\n",
    "    def __init__(self,acc_no,acc_pass):\n",
    "        self.acc_no = acc_no\n",
    "        self.__acc_pass = acc_pass\n",
    "        \n",
    "    def privatePassPrint(self):\n",
    "        print(self.__acc_pass)\n",
    "        \n",
    "a1 = Account('453 874', 'aludim123')\n",
    "\n",
    "# print(a1.__acc_pass) this will give error because private attribute\n",
    "\n",
    "print(a1.privatePassPrint())"
   ]
  },
  {
   "cell_type": "code",
   "execution_count": 7,
   "id": "470b3e73",
   "metadata": {},
   "outputs": [
    {
     "name": "stdout",
     "output_type": "stream",
     "text": [
      "Hello Person!! Rofiq\n",
      "None\n"
     ]
    }
   ],
   "source": [
    "class Person:\n",
    "    def __init__(self,name):\n",
    "        self.__name = name\n",
    "    def __hello(self):\n",
    "        print('Hello Person!!',self.__name)\n",
    "    def welcome(self):\n",
    "        self.__hello()\n",
    "\n",
    "\n",
    "p1 = Person(\"Rofiq\")\n",
    "print(p1.welcome())"
   ]
  }
 ],
 "metadata": {
  "kernelspec": {
   "display_name": "Python 3",
   "language": "python",
   "name": "python3"
  },
  "language_info": {
   "codemirror_mode": {
    "name": "ipython",
    "version": 3
   },
   "file_extension": ".py",
   "mimetype": "text/x-python",
   "name": "python",
   "nbconvert_exporter": "python",
   "pygments_lexer": "ipython3",
   "version": "3.11.9"
  }
 },
 "nbformat": 4,
 "nbformat_minor": 5
}
