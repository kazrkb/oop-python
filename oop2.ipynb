{
 "cells": [
  {
   "cell_type": "code",
   "execution_count": 1,
   "id": "9ea5b19c",
   "metadata": {},
   "outputs": [
    {
     "name": "stdout",
     "output_type": "stream",
     "text": [
      "Alex DU\n"
     ]
    }
   ],
   "source": [
    "class Student:\n",
    "    def __init__(self,name,uni):\n",
    "        self.name = name\n",
    "        self.university = uni\n",
    "    \n",
    "s1 = Student('John','IUB')\n",
    "s2 = Student('Alex','DU')\n",
    "s3 = Student('Rofiq','BUET')\n",
    "\n",
    "del s1\n",
    "print(s2.name,s2.university)"
   ]
  },
  {
   "cell_type": "code",
   "execution_count": 2,
   "id": "6e35761a",
   "metadata": {},
   "outputs": [
    {
     "name": "stdout",
     "output_type": "stream",
     "text": [
      "aludim123\n",
      "None\n"
     ]
    }
   ],
   "source": [
    "class Account:\n",
    "    def __init__(self,acc_no,acc_pass):\n",
    "        self.acc_no = acc_no\n",
    "        self.__acc_pass = acc_pass\n",
    "        \n",
    "    def privatePassPrint(self):\n",
    "        print(self.__acc_pass)\n",
    "        \n",
    "a1 = Account('453 874', 'aludim123')\n",
    "\n",
    "# print(a1.__acc_pass) this will give error because private attribute\n",
    "\n",
    "print(a1.privatePassPrint())"
   ]
  },
  {
   "cell_type": "code",
   "execution_count": 3,
   "id": "470b3e73",
   "metadata": {},
   "outputs": [
    {
     "name": "stdout",
     "output_type": "stream",
     "text": [
      "Hello Person!! Rofiq\n",
      "None\n"
     ]
    }
   ],
   "source": [
    "class Person:\n",
    "    def __init__(self,name):\n",
    "        self.__name = name\n",
    "    def __hello(self):\n",
    "        print('Hello Person!!',self.__name)\n",
    "    def welcome(self):\n",
    "        self.__hello()\n",
    "\n",
    "\n",
    "p1 = Person(\"Rofiq\")\n",
    "print(p1.welcome())"
   ]
  },
  {
   "cell_type": "markdown",
   "id": "4209e7f8",
   "metadata": {},
   "source": [
    "## Inheritance\n",
    "##### When one class(childlderived) derives the properties & methods of another class(parentlbase).\n",
    "\n",
    "##### Inheritance -> Types = 1.Single Inheritance, 2.Multi-level Inheritance, 3.Multiple Inheritance"
   ]
  },
  {
   "cell_type": "code",
   "execution_count": 4,
   "id": "b28fe29d",
   "metadata": {},
   "outputs": [
    {
     "name": "stdout",
     "output_type": "stream",
     "text": [
      "Alion A15\n",
      "car started broom brooom....\n",
      "None\n",
      "Red\n"
     ]
    }
   ],
   "source": [
    "class Car:\n",
    "    color = 'Red'\n",
    "    @staticmethod\n",
    "    def start():\n",
    "        print('car started broom brooom....')\n",
    "        \n",
    "    @staticmethod\n",
    "    def stop():\n",
    "        print('car stopped.')\n",
    "        \n",
    "class ToyotaCar(Car):\n",
    "    def __init__(self,name):\n",
    "        self.name = name\n",
    "        \n",
    "car1 = ToyotaCar('Alion A15')\n",
    "car2 = ToyotaCar('Corola Axio')\n",
    "\n",
    "\n",
    "print(car1.name)\n",
    "print(car1.start())\n",
    "print(car2.color)"
   ]
  },
  {
   "cell_type": "code",
   "execution_count": null,
   "id": "9faec465",
   "metadata": {},
   "outputs": [
    {
     "name": "stdout",
     "output_type": "stream",
     "text": [
      "car started broom brooom....\n"
     ]
    }
   ],
   "source": [
    "class Car:\n",
    "    @staticmethod\n",
    "    def start():\n",
    "        print('car started broom brooom....')\n",
    "        \n",
    "    @staticmethod\n",
    "    def stop():\n",
    "        print('car stopped.')\n",
    "        \n",
    "class ToyotaCar(Car):\n",
    "    def __init__(self,brand):\n",
    "        self.brand = brand\n",
    "        \n",
    "class Corola(ToyotaCar):\n",
    "    def __init__(self,eng_type, color, noOfDoor):\n",
    "        self.eng_type = eng_type\n",
    "        self.color = color\n",
    "        self.noOfDoor = noOfDoor\n",
    "\n",
    "\n",
    "car1 = Corola('4 Cylinder','black',4)\n",
    "car1.start() # multilevel inheritance"
   ]
  },
  {
   "cell_type": "code",
   "execution_count": null,
   "id": "540813a2",
   "metadata": {},
   "outputs": [],
   "source": []
  }
 ],
 "metadata": {
  "kernelspec": {
   "display_name": "Python 3",
   "language": "python",
   "name": "python3"
  },
  "language_info": {
   "codemirror_mode": {
    "name": "ipython",
    "version": 3
   },
   "file_extension": ".py",
   "mimetype": "text/x-python",
   "name": "python",
   "nbconvert_exporter": "python",
   "pygments_lexer": "ipython3",
   "version": "3.11.9"
  }
 },
 "nbformat": 4,
 "nbformat_minor": 5
}
